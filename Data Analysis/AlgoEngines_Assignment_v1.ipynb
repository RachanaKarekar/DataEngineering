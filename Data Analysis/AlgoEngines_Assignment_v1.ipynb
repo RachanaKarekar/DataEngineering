{
  "nbformat": 4,
  "nbformat_minor": 0,
  "metadata": {
    "colab": {
      "name": "AlgoEngines_Assignment_v1.ipynb",
      "provenance": [],
      "collapsed_sections": []
    },
    "kernelspec": {
      "name": "python3",
      "display_name": "Python 3"
    },
    "language_info": {
      "name": "python"
    }
  },
  "cells": [
    {
      "cell_type": "code",
      "metadata": {
        "id": "4L8CkVAC47G8"
      },
      "source": [
        "!wget https://downloads.apache.org/spark/spark-3.1.2/spark-3.1.2-bin-hadoop2.7.tgz"
      ],
      "execution_count": null,
      "outputs": []
    },
    {
      "cell_type": "code",
      "metadata": {
        "id": "H71iiMEI5Lb6"
      },
      "source": [
        "!tar -xvf spark-3.1.2-bin-hadoop2.7.tgz"
      ],
      "execution_count": null,
      "outputs": []
    },
    {
      "cell_type": "code",
      "metadata": {
        "id": "guxJoAHr5coH"
      },
      "source": [
        "import os\n",
        "os.environ[\"JAVA_HOME\"] = \"/usr/lib/jvm/java-11-openjdk-amd64\"\n",
        "os.environ[\"SPARK_HOME\"] = \"/content/spark-3.1.2-bin-hadoop2.7\""
      ],
      "execution_count": null,
      "outputs": []
    },
    {
      "cell_type": "code",
      "metadata": {
        "colab": {
          "base_uri": "https://localhost:8080/"
        },
        "id": "134QZQ2O5iBd",
        "outputId": "753ccc5f-fbc3-40a0-ea99-d2c102e83dac"
      },
      "source": [
        "!pip install findspark"
      ],
      "execution_count": null,
      "outputs": [
        {
          "output_type": "stream",
          "name": "stdout",
          "text": [
            "Collecting findspark\n",
            "  Downloading findspark-1.4.2-py2.py3-none-any.whl (4.2 kB)\n",
            "Installing collected packages: findspark\n",
            "Successfully installed findspark-1.4.2\n"
          ]
        }
      ]
    },
    {
      "cell_type": "code",
      "metadata": {
        "id": "Cbio6zil5lnR"
      },
      "source": [
        "import findspark\n",
        "findspark.init()\n",
        "\n",
        "from pyspark.sql import SparkSession\n",
        "import pyspark.sql.functions as F\n",
        "from pyspark.sql.types import *\n",
        "from pyspark.sql import Window\n",
        "spark = SparkSession.builder.appName(\"ETL\").getOrCreate()"
      ],
      "execution_count": null,
      "outputs": []
    },
    {
      "cell_type": "markdown",
      "metadata": {
        "id": "-kUlc6yD5FE3"
      },
      "source": [
        "Setting up proper schema"
      ]
    },
    {
      "cell_type": "code",
      "metadata": {
        "colab": {
          "base_uri": "https://localhost:8080/"
        },
        "id": "DzyioL916DfM",
        "outputId": "c5454c1f-410d-40c4-f311-032f5dd702dd"
      },
      "source": [
        "df = spark.read.options(header = \"True\").csv('/content/drive/MyDrive/AlgoEngines/RandomData.csv')\n",
        "df.show(5)\n"
      ],
      "execution_count": null,
      "outputs": [
        {
          "output_type": "stream",
          "name": "stdout",
          "text": [
            "+-------------------+-----------+----------+------------+--------+------------+------+----------+------+\n",
            "|          date_time|client_code|mobile_num|amount_spent|currency|     product|gender|       dob|refund|\n",
            "+-------------------+-----------+----------+------------+--------+------------+------+----------+------+\n",
            "|2020-09-11 01:17:46|        101|9123458445|         956|     INR|Premier Card|     M|1950-07-25| FALSE|\n",
            "|2021-01-28 18:51:40|        101|9123458445|         871|     USD| Amazon Card|     M|1950-07-25| FALSE|\n",
            "|2020-09-04 11:35:11|        101|9123458445|         861|     EUR| Cattle Card|     M|1950-07-25| FALSE|\n",
            "|2020-07-31 23:42:16|        101|9123458445|         788|     INR|Premier Card|     M|1950-07-25| FALSE|\n",
            "|2021-09-17 08:06:07|        101|9123458445|         437|     USD| Amazon Card|     M|1950-07-25| FALSE|\n",
            "+-------------------+-----------+----------+------------+--------+------------+------+----------+------+\n",
            "only showing top 5 rows\n",
            "\n"
          ]
        }
      ]
    },
    {
      "cell_type": "code",
      "metadata": {
        "colab": {
          "base_uri": "https://localhost:8080/"
        },
        "id": "mou_mI7RCEOp",
        "outputId": "2b62e4eb-4c8a-45e2-b96e-08819b6bc463"
      },
      "source": [
        "df.printSchema()"
      ],
      "execution_count": null,
      "outputs": [
        {
          "output_type": "stream",
          "name": "stdout",
          "text": [
            "root\n",
            " |-- date_time: string (nullable = true)\n",
            " |-- client_code: string (nullable = true)\n",
            " |-- mobile_num: string (nullable = true)\n",
            " |-- amount_spent: string (nullable = true)\n",
            " |-- currency: string (nullable = true)\n",
            " |-- product: string (nullable = true)\n",
            " |-- gender: string (nullable = true)\n",
            " |-- dob: string (nullable = true)\n",
            " |-- refund: string (nullable = true)\n",
            "\n"
          ]
        }
      ]
    },
    {
      "cell_type": "code",
      "metadata": {
        "id": "WmhKCfw8ruy4"
      },
      "source": [
        "schema = StructType([\n",
        "                     StructField(\"date_time\", StringType(), False),\n",
        "                     StructField(\"client_code\", IntegerType(), True),\n",
        "                     StructField(\"mobile_num\", StringType(), False),\n",
        "                     StructField(\"amount_spent\", IntegerType(), False),\n",
        "                     StructField(\"currency\", StringType(), False),\n",
        "                     StructField(\"product\", StringType(), False),\n",
        "                     StructField(\"gender\", StringType(), False),\n",
        "                     StructField(\"dob\", StringType(), False),\n",
        "                     StructField(\"refund\", StringType(), False)\n",
        "])"
      ],
      "execution_count": null,
      "outputs": []
    },
    {
      "cell_type": "code",
      "metadata": {
        "colab": {
          "base_uri": "https://localhost:8080/"
        },
        "id": "LpcfXwnHsnnL",
        "outputId": "3c175844-dba9-4415-ae62-99dec6670fd4"
      },
      "source": [
        "df = spark.read.options(header = \"True\").schema(schema).csv(\"/content/drive/MyDrive/AlgoEngines/RandomData.csv\")\n",
        "df.show(5)\n",
        "df.printSchema()"
      ],
      "execution_count": null,
      "outputs": [
        {
          "output_type": "stream",
          "name": "stdout",
          "text": [
            "+-------------------+-----------+----------+------------+--------+------------+------+----------+------+\n",
            "|          date_time|client_code|mobile_num|amount_spent|currency|     product|gender|       dob|refund|\n",
            "+-------------------+-----------+----------+------------+--------+------------+------+----------+------+\n",
            "|2020-09-11 01:17:46|        101|9123458445|         956|     INR|Premier Card|     M|1950-07-25| FALSE|\n",
            "|2021-01-28 18:51:40|        101|9123458445|         871|     USD| Amazon Card|     M|1950-07-25| FALSE|\n",
            "|2020-09-04 11:35:11|        101|9123458445|         861|     EUR| Cattle Card|     M|1950-07-25| FALSE|\n",
            "|2020-07-31 23:42:16|        101|9123458445|         788|     INR|Premier Card|     M|1950-07-25| FALSE|\n",
            "|2021-09-17 08:06:07|        101|9123458445|         437|     USD| Amazon Card|     M|1950-07-25| FALSE|\n",
            "+-------------------+-----------+----------+------------+--------+------------+------+----------+------+\n",
            "only showing top 5 rows\n",
            "\n",
            "root\n",
            " |-- date_time: string (nullable = true)\n",
            " |-- client_code: integer (nullable = true)\n",
            " |-- mobile_num: string (nullable = true)\n",
            " |-- amount_spent: integer (nullable = true)\n",
            " |-- currency: string (nullable = true)\n",
            " |-- product: string (nullable = true)\n",
            " |-- gender: string (nullable = true)\n",
            " |-- dob: string (nullable = true)\n",
            " |-- refund: string (nullable = true)\n",
            "\n"
          ]
        }
      ]
    },
    {
      "cell_type": "markdown",
      "metadata": {
        "id": "G0qpBsk55O3M"
      },
      "source": [
        "Problem Statement 1:\n",
        "Add 2 fields where you compute the agreegate of total spend by product, gender for each day (reset for next day)"
      ]
    },
    {
      "cell_type": "code",
      "metadata": {
        "colab": {
          "base_uri": "https://localhost:8080/"
        },
        "id": "BAB40_j_Bo3f",
        "outputId": "5a197163-f643-4a9b-a9d0-4fa01a98d3d5"
      },
      "source": [
        "# This step is necessary to get the transaction date, excluding the time bit, which is further used for computations on a per day basis\n",
        "df = df.withColumn(\"txn_date\", F.to_date(\"date_time\"))                   \n",
        "df.sort(\"txn_date\").show()"
      ],
      "execution_count": null,
      "outputs": [
        {
          "output_type": "stream",
          "name": "stdout",
          "text": [
            "+-------------------+-----------+----------+------------+--------+------------+------+----------+------+----------+\n",
            "|          date_time|client_code|mobile_num|amount_spent|currency|     product|gender|       dob|refund|  txn_date|\n",
            "+-------------------+-----------+----------+------------+--------+------------+------+----------+------+----------+\n",
            "|2020-01-08 15:05:01|        111|9325489657|         705|     USD| Cattle Card|     M|1989-09-27|  TRUE|2020-01-08|\n",
            "|2020-01-19 19:12:08|        101|9123458445|         726|     INR| Amazon Card|     M|1950-07-25| FALSE|2020-01-19|\n",
            "|2020-01-23 13:11:27|        109|9222356845|         820|     EUR| Amazon Card|     M|1988-09-27| FALSE|2020-01-23|\n",
            "|2020-02-09 15:07:13|        112|9334512789|         875|     USD| Cattle Card|     F|1986-09-27| FALSE|2020-02-09|\n",
            "|2020-02-23 19:45:52|        103|9111452369|         741|     USD| Amazon Card|     M|1979-09-27| FALSE|2020-02-23|\n",
            "|2020-02-25 08:51:37|        106|9111111160|         476|     USD| Cattle Card|     F|1996-09-27| FALSE|2020-02-25|\n",
            "|2020-03-09 13:48:54|        109|9222356845|         310|     EUR|Premier Card|     M|1988-09-27| FALSE|2020-03-09|\n",
            "|2020-03-16 05:47:00|        106|9111111156|         107|     INR| Cattle Card|     F|1996-09-27| FALSE|2020-03-16|\n",
            "|2020-03-20 08:08:37|        106|9111111154|         232|     USD|Premier Card|     F|1996-09-27| FALSE|2020-03-20|\n",
            "|2020-03-24 15:11:13|        102|9112345778|         818|     USD|Premier Card|     F|2000-07-25| FALSE|2020-03-24|\n",
            "|2020-04-03 13:12:22|        105|9111112548|         844|     INR| Cattle Card|     M|1966-09-27| FALSE|2020-04-03|\n",
            "|2020-04-05 06:58:17|        107|9214589635|         284|     EUR| Amazon Card|     M|1992-09-27| FALSE|2020-04-05|\n",
            "|2020-04-06 20:42:30|        106|9111111158|         568|     EUR| Amazon Card|     F|1996-09-27| FALSE|2020-04-06|\n",
            "|2020-04-18 23:47:26|        107|9214589635|         328|     INR|Premier Card|     M|1992-09-27| FALSE|2020-04-18|\n",
            "|2020-04-18 13:54:45|        101|9123458445|         183|     EUR|Premier Card|     M|1950-07-25| FALSE|2020-04-18|\n",
            "|2020-04-23 15:36:02|        109|9222356845|         956|     INR| Cattle Card|     M|1988-09-27|  TRUE|2020-04-23|\n",
            "|2020-05-12 23:41:00|        110|9222245863|         450|     USD| Amazon Card|     F|1984-09-27| FALSE|2020-05-12|\n",
            "|2020-05-12 00:40:47|        102|9112345778|         699|     EUR| Amazon Card|     F|2000-07-25| FALSE|2020-05-12|\n",
            "|2020-05-17 18:16:06|        108|9223548512|         260|     INR| Amazon Card|     F|1998-09-27| FALSE|2020-05-17|\n",
            "|2020-05-20 01:27:38|        110|9222245863|         505|     INR|Premier Card|     F|1984-09-27| FALSE|2020-05-20|\n",
            "+-------------------+-----------+----------+------------+--------+------------+------+----------+------+----------+\n",
            "only showing top 20 rows\n",
            "\n"
          ]
        }
      ]
    },
    {
      "cell_type": "code",
      "metadata": {
        "colab": {
          "base_uri": "https://localhost:8080/"
        },
        "id": "SnZWxQviCCG-",
        "outputId": "ea664990-758f-444c-f9d5-42a2896446c8"
      },
      "source": [
        "windowSpec_product = Window.partitionBy(\"txn_date\",\"product\")\n",
        "windowSpec_gender = Window.partitionBy(\"txn_date\",\"gender\")\n",
        "\n",
        "df1 = df.withColumn(\"product_sum\", F.sum(F.col(\"amount_spent\")).over(windowSpec_product)).withColumn(\"gender_sum\", F.sum(F.col(\"amount_spent\")).over(windowSpec_gender))\n",
        "\n",
        "\n",
        "df1.select(\"date_time\", \"client_code\",\"amount_spent\", \"product\", \"gender\", \"txn_date\", \"product_sum\", \"gender_sum\").sort(\"txn_date\").show()"
      ],
      "execution_count": null,
      "outputs": [
        {
          "output_type": "stream",
          "name": "stdout",
          "text": [
            "+-------------------+-----------+------------+------------+------+----------+-----------+----------+\n",
            "|          date_time|client_code|amount_spent|     product|gender|  txn_date|product_sum|gender_sum|\n",
            "+-------------------+-----------+------------+------------+------+----------+-----------+----------+\n",
            "|2020-01-08 15:05:01|        111|         705| Cattle Card|     M|2020-01-08|        705|       705|\n",
            "|2020-01-19 19:12:08|        101|         726| Amazon Card|     M|2020-01-19|        726|       726|\n",
            "|2020-01-23 13:11:27|        109|         820| Amazon Card|     M|2020-01-23|        820|       820|\n",
            "|2020-02-09 15:07:13|        112|         875| Cattle Card|     F|2020-02-09|        875|       875|\n",
            "|2020-02-23 19:45:52|        103|         741| Amazon Card|     M|2020-02-23|        741|       741|\n",
            "|2020-02-25 08:51:37|        106|         476| Cattle Card|     F|2020-02-25|        476|       476|\n",
            "|2020-03-09 13:48:54|        109|         310|Premier Card|     M|2020-03-09|        310|       310|\n",
            "|2020-03-16 05:47:00|        106|         107| Cattle Card|     F|2020-03-16|        107|       107|\n",
            "|2020-03-20 08:08:37|        106|         232|Premier Card|     F|2020-03-20|        232|       232|\n",
            "|2020-03-24 15:11:13|        102|         818|Premier Card|     F|2020-03-24|        818|       818|\n",
            "|2020-04-03 13:12:22|        105|         844| Cattle Card|     M|2020-04-03|        844|       844|\n",
            "|2020-04-05 06:58:17|        107|         284| Amazon Card|     M|2020-04-05|        284|       284|\n",
            "|2020-04-06 20:42:30|        106|         568| Amazon Card|     F|2020-04-06|        568|       568|\n",
            "|2020-04-18 23:47:26|        107|         328|Premier Card|     M|2020-04-18|        511|       511|\n",
            "|2020-04-18 13:54:45|        101|         183|Premier Card|     M|2020-04-18|        511|       511|\n",
            "|2020-04-23 15:36:02|        109|         956| Cattle Card|     M|2020-04-23|        956|       956|\n",
            "|2020-05-12 00:40:47|        102|         699| Amazon Card|     F|2020-05-12|       1149|      1149|\n",
            "|2020-05-12 23:41:00|        110|         450| Amazon Card|     F|2020-05-12|       1149|      1149|\n",
            "|2020-05-17 18:16:06|        108|         260| Amazon Card|     F|2020-05-17|        260|       260|\n",
            "|2020-05-20 01:27:38|        110|         505|Premier Card|     F|2020-05-20|        505|       505|\n",
            "+-------------------+-----------+------------+------------+------+----------+-----------+----------+\n",
            "only showing top 20 rows\n",
            "\n"
          ]
        }
      ]
    },
    {
      "cell_type": "code",
      "metadata": {
        "colab": {
          "base_uri": "https://localhost:8080/"
        },
        "id": "Cl2i8jEDHVsX",
        "outputId": "f39ab13f-48e3-4ed0-923a-261ea59ceac5"
      },
      "source": [
        "df1.columns"
      ],
      "execution_count": null,
      "outputs": [
        {
          "output_type": "execute_result",
          "data": {
            "text/plain": [
              "['date_time',\n",
              " 'client_code',\n",
              " 'mobile_num',\n",
              " 'amount_spent',\n",
              " 'currency',\n",
              " 'product',\n",
              " 'gender',\n",
              " 'dob',\n",
              " 'refund',\n",
              " 'txn_date',\n",
              " 'product_sum',\n",
              " 'gender_sum']"
            ]
          },
          "metadata": {},
          "execution_count": 55
        }
      ]
    },
    {
      "cell_type": "code",
      "metadata": {
        "colab": {
          "base_uri": "https://localhost:8080/"
        },
        "id": "e5NRdeNbHQzZ",
        "outputId": "c4e037d6-f5a7-4c3b-e088-27a8b0d0724e"
      },
      "source": [
        "# This df is created in order to merge with the final output df.\n",
        "df1_final = df1.select('date_time',\n",
        " 'client_code',\n",
        " 'mobile_num',\n",
        " 'amount_spent',\n",
        " 'currency',\n",
        " 'product',\n",
        " 'gender',\n",
        " 'dob',\n",
        " 'refund',\n",
        " 'product_sum',\n",
        " 'gender_sum')\n",
        "df1_final.show(2)"
      ],
      "execution_count": null,
      "outputs": [
        {
          "output_type": "stream",
          "name": "stdout",
          "text": [
            "+-------------------+-----------+----------+------------+--------+-----------+------+----------+------+-----------+----------+\n",
            "|          date_time|client_code|mobile_num|amount_spent|currency|    product|gender|       dob|refund|product_sum|gender_sum|\n",
            "+-------------------+-----------+----------+------------+--------+-----------+------+----------+------+-----------+----------+\n",
            "|2020-05-12 00:40:47|        102|9112345778|         699|     EUR|Amazon Card|     F|2000-07-25| FALSE|       1149|      1149|\n",
            "|2020-05-12 23:41:00|        110|9222245863|         450|     USD|Amazon Card|     F|1984-09-27| FALSE|       1149|      1149|\n",
            "+-------------------+-----------+----------+------------+--------+-----------+------+----------+------+-----------+----------+\n",
            "only showing top 2 rows\n",
            "\n"
          ]
        }
      ]
    },
    {
      "cell_type": "markdown",
      "metadata": {
        "id": "RdX7vE935a3D"
      },
      "source": [
        "Problem Statement 2: Add 3 fields to the data frame where you have aggregate spend by client over 20/30/40 yrs old for the entire period"
      ]
    },
    {
      "cell_type": "code",
      "metadata": {
        "colab": {
          "base_uri": "https://localhost:8080/"
        },
        "id": "eNgg6GbGQAxU",
        "outputId": "08d59b1d-fb0d-4376-bf08-9971174262f9"
      },
      "source": [
        "\n",
        "# This bit creates a column with the custumers age\n",
        "df2 = df.withColumn(\"age\",F.round(F.months_between(F.current_date(),F.col(\"dob\"))/F.lit(12)))\n",
        "df2.show(5)\n",
        "\n",
        "df2 = df2.withColumn(\"age\",df2.age.cast('int'))\n",
        "\n",
        "df2.printSchema()\n",
        "\n",
        "df2.show(5)\n"
      ],
      "execution_count": null,
      "outputs": [
        {
          "output_type": "stream",
          "name": "stdout",
          "text": [
            "+-------------------+-----------+----------+------------+--------+------------+------+----------+------+----------+----+\n",
            "|          date_time|client_code|mobile_num|amount_spent|currency|     product|gender|       dob|refund|  txn_date| age|\n",
            "+-------------------+-----------+----------+------------+--------+------------+------+----------+------+----------+----+\n",
            "|2020-09-11 01:17:46|        101|9123458445|         956|     INR|Premier Card|     M|1950-07-25| FALSE|2020-09-11|71.0|\n",
            "|2021-01-28 18:51:40|        101|9123458445|         871|     USD| Amazon Card|     M|1950-07-25| FALSE|2021-01-28|71.0|\n",
            "|2020-09-04 11:35:11|        101|9123458445|         861|     EUR| Cattle Card|     M|1950-07-25| FALSE|2020-09-04|71.0|\n",
            "|2020-07-31 23:42:16|        101|9123458445|         788|     INR|Premier Card|     M|1950-07-25| FALSE|2020-07-31|71.0|\n",
            "|2021-09-17 08:06:07|        101|9123458445|         437|     USD| Amazon Card|     M|1950-07-25| FALSE|2021-09-17|71.0|\n",
            "+-------------------+-----------+----------+------------+--------+------------+------+----------+------+----------+----+\n",
            "only showing top 5 rows\n",
            "\n",
            "root\n",
            " |-- date_time: string (nullable = true)\n",
            " |-- client_code: integer (nullable = true)\n",
            " |-- mobile_num: string (nullable = true)\n",
            " |-- amount_spent: integer (nullable = true)\n",
            " |-- currency: string (nullable = true)\n",
            " |-- product: string (nullable = true)\n",
            " |-- gender: string (nullable = true)\n",
            " |-- dob: string (nullable = true)\n",
            " |-- refund: string (nullable = true)\n",
            " |-- txn_date: date (nullable = true)\n",
            " |-- age: integer (nullable = true)\n",
            "\n",
            "+-------------------+-----------+----------+------------+--------+------------+------+----------+------+----------+---+\n",
            "|          date_time|client_code|mobile_num|amount_spent|currency|     product|gender|       dob|refund|  txn_date|age|\n",
            "+-------------------+-----------+----------+------------+--------+------------+------+----------+------+----------+---+\n",
            "|2020-09-11 01:17:46|        101|9123458445|         956|     INR|Premier Card|     M|1950-07-25| FALSE|2020-09-11| 71|\n",
            "|2021-01-28 18:51:40|        101|9123458445|         871|     USD| Amazon Card|     M|1950-07-25| FALSE|2021-01-28| 71|\n",
            "|2020-09-04 11:35:11|        101|9123458445|         861|     EUR| Cattle Card|     M|1950-07-25| FALSE|2020-09-04| 71|\n",
            "|2020-07-31 23:42:16|        101|9123458445|         788|     INR|Premier Card|     M|1950-07-25| FALSE|2020-07-31| 71|\n",
            "|2021-09-17 08:06:07|        101|9123458445|         437|     USD| Amazon Card|     M|1950-07-25| FALSE|2021-09-17| 71|\n",
            "+-------------------+-----------+----------+------------+--------+------------+------+----------+------+----------+---+\n",
            "only showing top 5 rows\n",
            "\n"
          ]
        }
      ]
    },
    {
      "cell_type": "code",
      "metadata": {
        "colab": {
          "base_uri": "https://localhost:8080/"
        },
        "id": "Gnsr_VQPI209",
        "outputId": "43be3aa5-915e-455b-8b01-5e60939af17d"
      },
      "source": [
        "# This bit creates a column specifying the age category of the consumer, with conditions as given in the code\n",
        "\n",
        "from pyspark.sql.functions import when\n",
        "\n",
        "df2 = df2.withColumn(\"age_class\", \\\n",
        "   when((df2.age < 20), F.lit(10)) \\\n",
        "     .when((df2.age >= 20) & (df2.age <= 29), F.lit(20)) \\\n",
        "     .when((df2.age >= 30) & (df2.age <= 39), F.lit(30)) \\\n",
        "     .otherwise(F.lit(40)) \\\n",
        "  )\n",
        "\n",
        "df2.printSchema()"
      ],
      "execution_count": null,
      "outputs": [
        {
          "output_type": "stream",
          "name": "stdout",
          "text": [
            "root\n",
            " |-- date_time: string (nullable = true)\n",
            " |-- client_code: integer (nullable = true)\n",
            " |-- mobile_num: string (nullable = true)\n",
            " |-- amount_spent: integer (nullable = true)\n",
            " |-- currency: string (nullable = true)\n",
            " |-- product: string (nullable = true)\n",
            " |-- gender: string (nullable = true)\n",
            " |-- dob: string (nullable = true)\n",
            " |-- refund: string (nullable = true)\n",
            " |-- txn_date: date (nullable = true)\n",
            " |-- age: integer (nullable = true)\n",
            " |-- age_class: integer (nullable = false)\n",
            "\n"
          ]
        }
      ]
    },
    {
      "cell_type": "code",
      "metadata": {
        "colab": {
          "base_uri": "https://localhost:8080/"
        },
        "id": "-6SO_l0FdK8W",
        "outputId": "3da6bd87-a424-4698-854d-bf37a3425522"
      },
      "source": [
        "# This computes the spending per respective category in a new column called spendings\n",
        "windowSpec_class = Window.partitionBy(\"age_class\").orderBy(\"age\").rowsBetween(Window.unboundedPreceding, Window.unboundedFollowing)\n",
        "\n",
        "df2 = df2.withColumn(\"spendings\", F.sum(F.col(\"amount_spent\")).over(windowSpec_class))  \n",
        "\n",
        "# This separates the spendings in 3 different columns as needed in the problem statement\n",
        "df2 = df2.withColumn(\"spending_20s\", when(df2.age_class == 20, df2.spendings).otherwise(0))\\\n",
        "         .withColumn(\"spending_30s\", when(df2.age_class == 30, df2.spendings).otherwise(0))\\\n",
        "         .withColumn(\"spending_40+\", when(df2.age_class == 40, df2.spendings).otherwise(0))\n",
        "\n",
        "df2.show(100)"
      ],
      "execution_count": null,
      "outputs": [
        {
          "output_type": "stream",
          "name": "stdout",
          "text": [
            "+-------------------+-----------+----------+------------+--------+------------+------+----------+------+----------+---+---------+------------+---------+------------+------------+------------+\n",
            "|          date_time|client_code|mobile_num|amount_spent|currency|     product|gender|       dob|refund|  txn_date|age|age_class|spendings_20|spendings|spending_20s|spending_30s|spending_40+|\n",
            "+-------------------+-----------+----------+------------+--------+------------+------+----------+------+----------+---+---------+------------+---------+------------+------------+------------+\n",
            "|2020-09-07 09:51:26|        102|9112345778|         708|     USD|Premier Card|     F|2000-07-25| FALSE|2020-09-07| 21|       20|       19806|    19806|       19806|           0|           0|\n",
            "|2020-07-02 23:23:30|        102|9112345778|         528|     EUR| Amazon Card|     F|2000-07-25| FALSE|2020-07-02| 21|       20|       19806|    19806|       19806|           0|           0|\n",
            "|2020-09-09 03:31:07|        102|9112345778|         729|     INR| Amazon Card|     F|2000-07-25| FALSE|2020-09-09| 21|       20|       19806|    19806|       19806|           0|           0|\n",
            "|2020-11-21 09:01:12|        102|9112345778|         955|     USD| Cattle Card|     F|2000-07-25| FALSE|2020-11-21| 21|       20|       19806|    19806|       19806|           0|           0|\n",
            "|2020-10-31 15:05:25|        102|9112345778|         548|     EUR|Premier Card|     F|2000-07-25| FALSE|2020-10-31| 21|       20|       19806|    19806|       19806|           0|           0|\n",
            "|2021-05-09 10:10:29|        102|9112345778|         134|     INR|Premier Card|     F|2000-07-25| FALSE|2021-05-09| 21|       20|       19806|    19806|       19806|           0|           0|\n",
            "|2020-07-28 11:26:27|        102|9112345778|         590|     USD| Amazon Card|     F|2000-07-25| FALSE|2020-07-28| 21|       20|       19806|    19806|       19806|           0|           0|\n",
            "|2021-07-25 05:01:27|        102|9112345778|         994|     EUR| Cattle Card|     F|2000-07-25| FALSE|2021-07-25| 21|       20|       19806|    19806|       19806|           0|           0|\n",
            "|2020-07-29 02:56:20|        102|9112345778|         887|     INR| Cattle Card|     F|2000-07-25| FALSE|2020-07-29| 21|       20|       19806|    19806|       19806|           0|           0|\n",
            "|2020-03-24 15:11:13|        102|9112345778|         818|     USD|Premier Card|     F|2000-07-25| FALSE|2020-03-24| 21|       20|       19806|    19806|       19806|           0|           0|\n",
            "|2020-05-12 00:40:47|        102|9112345778|         699|     EUR| Amazon Card|     F|2000-07-25| FALSE|2020-05-12| 21|       20|       19806|    19806|       19806|           0|           0|\n",
            "|2021-05-09 16:08:20|        102|9112345778|         316|     INR|Premier Card|     F|2000-07-25|  TRUE|2021-05-09| 21|       20|       19806|    19806|       19806|           0|           0|\n",
            "|2020-05-17 18:16:06|        108|9223548512|         260|     INR| Amazon Card|     F|1998-09-27| FALSE|2020-05-17| 23|       20|       19806|    19806|       19806|           0|           0|\n",
            "|2020-10-23 05:49:38|        108|9223548512|         687|     USD| Cattle Card|     F|1998-09-27| FALSE|2020-10-23| 23|       20|       19806|    19806|       19806|           0|           0|\n",
            "|2021-06-11 19:31:06|        108|9223548512|         807|     EUR|Premier Card|     F|1998-09-27| FALSE|2021-06-11| 23|       20|       19806|    19806|       19806|           0|           0|\n",
            "|2020-03-20 08:08:37|        106|9111111154|         232|     USD|Premier Card|     F|1996-09-27| FALSE|2020-03-20| 25|       20|       19806|    19806|       19806|           0|           0|\n",
            "|2021-07-20 21:25:59|        106|9111111155|         560|     EUR| Amazon Card|     F|1996-09-27| FALSE|2021-07-20| 25|       20|       19806|    19806|       19806|           0|           0|\n",
            "|2020-03-16 05:47:00|        106|9111111156|         107|     INR| Cattle Card|     F|1996-09-27| FALSE|2020-03-16| 25|       20|       19806|    19806|       19806|           0|           0|\n",
            "|2020-12-13 22:01:46|        106|9111111157|         880|     USD|Premier Card|     F|1996-09-27| FALSE|2020-12-13| 25|       20|       19806|    19806|       19806|           0|           0|\n",
            "|2020-04-06 20:42:30|        106|9111111158|         568|     EUR| Amazon Card|     F|1996-09-27| FALSE|2020-04-06| 25|       20|       19806|    19806|       19806|           0|           0|\n",
            "|2020-12-23 07:01:36|        106|9111111159|         783|     INR| Amazon Card|     F|1996-09-27| FALSE|2020-12-23| 25|       20|       19806|    19806|       19806|           0|           0|\n",
            "|2020-02-25 08:51:37|        106|9111111160|         476|     USD| Cattle Card|     F|1996-09-27| FALSE|2020-02-25| 25|       20|       19806|    19806|       19806|           0|           0|\n",
            "|2020-08-22 12:15:12|        106|9111111161|         426|     EUR|Premier Card|     F|1996-09-27|  TRUE|2020-08-22| 25|       20|       19806|    19806|       19806|           0|           0|\n",
            "|2020-04-18 23:47:26|        107|9214589635|         328|     INR|Premier Card|     M|1992-09-27| FALSE|2020-04-18| 29|       20|       19806|    19806|       19806|           0|           0|\n",
            "|2021-03-30 23:18:22|        107|9214589635|         440|     USD| Amazon Card|     M|1992-09-27| FALSE|2021-03-30| 29|       20|       19806|    19806|       19806|           0|           0|\n",
            "|2020-11-14 19:44:24|        107|9214589635|         626|     EUR| Cattle Card|     M|1992-09-27| FALSE|2020-11-14| 29|       20|       19806|    19806|       19806|           0|           0|\n",
            "|2021-07-21 22:38:38|        107|9214589635|         600|     INR| Cattle Card|     M|1992-09-27| FALSE|2021-07-21| 29|       20|       19806|    19806|       19806|           0|           0|\n",
            "|2021-09-09 14:22:40|        107|9214589635|         844|     USD|Premier Card|     M|1992-09-27| FALSE|2021-09-09| 29|       20|       19806|    19806|       19806|           0|           0|\n",
            "|2020-04-05 06:58:17|        107|9214589635|         284|     EUR| Amazon Card|     M|1992-09-27| FALSE|2020-04-05| 29|       20|       19806|    19806|       19806|           0|           0|\n",
            "|2021-01-28 13:48:26|        107|9214589635|         211|     INR|Premier Card|     M|1992-09-27| FALSE|2021-01-28| 29|       20|       19806|    19806|       19806|           0|           0|\n",
            "|2020-08-21 04:15:48|        107|9214589635|         929|     USD| Amazon Card|     M|1992-09-27| FALSE|2020-08-21| 29|       20|       19806|    19806|       19806|           0|           0|\n",
            "|2020-05-26 14:35:59|        107|9214589635|         305|     EUR| Cattle Card|     M|1992-09-27| FALSE|2020-05-26| 29|       20|       19806|    19806|       19806|           0|           0|\n",
            "|2021-08-10 00:43:00|        107|9214589635|         619|     INR|Premier Card|     M|1992-09-27| FALSE|2021-08-10| 29|       20|       19806|    19806|       19806|           0|           0|\n",
            "|2021-08-18 10:16:45|        107|9214589635|         227|     USD| Amazon Card|     M|1992-09-27| FALSE|2021-08-18| 29|       20|       19806|    19806|       19806|           0|           0|\n",
            "|2021-02-13 06:59:57|        107|9214589635|         701|     EUR| Cattle Card|     M|1992-09-27|  TRUE|2021-02-13| 29|       20|       19806|    19806|       19806|           0|           0|\n",
            "|2020-08-22 20:12:01|        103|9111452369|         377|     USD| Amazon Card|     M|1979-09-27| FALSE|2020-08-22| 42|       40|           0|    15571|           0|           0|       15571|\n",
            "|2021-04-01 11:12:09|        103|9111452369|         442|     EUR| Cattle Card|     M|1979-09-27| FALSE|2021-04-01| 42|       40|           0|    15571|           0|           0|       15571|\n",
            "|2021-04-02 14:15:07|        103|9111452369|         114|     INR|Premier Card|     M|1979-09-27| FALSE|2021-04-02| 42|       40|           0|    15571|           0|           0|       15571|\n",
            "|2020-02-23 19:45:52|        103|9111452369|         741|     USD| Amazon Card|     M|1979-09-27| FALSE|2020-02-23| 42|       40|           0|    15571|           0|           0|       15571|\n",
            "|2020-12-03 08:20:25|        103|9111452369|         473|     EUR| Cattle Card|     M|1979-09-27|  TRUE|2020-12-03| 42|       40|           0|    15571|           0|           0|       15571|\n",
            "|2021-01-22 00:59:43|        104|9111152485|         412|     INR| Amazon Card|     F|1971-09-27| FALSE|2021-01-22| 50|       40|           0|    15571|           0|           0|       15571|\n",
            "|2021-09-18 23:36:05|        104|9111152485|         207|     USD| Cattle Card|     F|1971-09-27| FALSE|2021-09-18| 50|       40|           0|    15571|           0|           0|       15571|\n",
            "|2021-08-03 01:27:21|        104|9111152485|         310|     EUR|Premier Card|     F|1971-09-27| FALSE|2021-08-03| 50|       40|           0|    15571|           0|           0|       15571|\n",
            "|2021-02-10 18:35:39|        104|9111152485|         200|     INR| Amazon Card|     F|1971-09-27|  TRUE|2021-02-10| 50|       40|           0|    15571|           0|           0|       15571|\n",
            "|2020-11-26 01:16:01|        105|9111112548|         850|     USD| Cattle Card|     M|1966-09-27| FALSE|2020-11-26| 55|       40|           0|    15571|           0|           0|       15571|\n",
            "|2020-07-17 03:07:03|        105|9111112548|         359|     EUR| Amazon Card|     M|1966-09-27| FALSE|2020-07-17| 55|       40|           0|    15571|           0|           0|       15571|\n",
            "|2020-04-03 13:12:22|        105|9111112548|         844|     INR| Cattle Card|     M|1966-09-27| FALSE|2020-04-03| 55|       40|           0|    15571|           0|           0|       15571|\n",
            "|2020-09-11 01:17:46|        101|9123458445|         956|     INR|Premier Card|     M|1950-07-25| FALSE|2020-09-11| 71|       40|           0|    15571|           0|           0|       15571|\n",
            "|2021-01-28 18:51:40|        101|9123458445|         871|     USD| Amazon Card|     M|1950-07-25| FALSE|2021-01-28| 71|       40|           0|    15571|           0|           0|       15571|\n",
            "|2020-09-04 11:35:11|        101|9123458445|         861|     EUR| Cattle Card|     M|1950-07-25| FALSE|2020-09-04| 71|       40|           0|    15571|           0|           0|       15571|\n",
            "|2020-07-31 23:42:16|        101|9123458445|         788|     INR|Premier Card|     M|1950-07-25| FALSE|2020-07-31| 71|       40|           0|    15571|           0|           0|       15571|\n",
            "|2021-09-17 08:06:07|        101|9123458445|         437|     USD| Amazon Card|     M|1950-07-25| FALSE|2021-09-17| 71|       40|           0|    15571|           0|           0|       15571|\n",
            "|2021-04-22 11:28:14|        101|9123458445|         651|     EUR| Cattle Card|     M|1950-07-25| FALSE|2021-04-22| 71|       40|           0|    15571|           0|           0|       15571|\n",
            "|2020-06-06 13:36:52|        101|9123458445|         685|     INR| Amazon Card|     M|1950-07-25| FALSE|2020-06-06| 71|       40|           0|    15571|           0|           0|       15571|\n",
            "|2021-01-13 12:20:07|        101|9123458445|         473|     USD| Cattle Card|     M|1950-07-25| FALSE|2021-01-13| 71|       40|           0|    15571|           0|           0|       15571|\n",
            "|2020-04-18 13:54:45|        101|9123458445|         183|     EUR|Premier Card|     M|1950-07-25| FALSE|2020-04-18| 71|       40|           0|    15571|           0|           0|       15571|\n",
            "|2020-01-19 19:12:08|        101|9123458445|         726|     INR| Amazon Card|     M|1950-07-25| FALSE|2020-01-19| 71|       40|           0|    15571|           0|           0|       15571|\n",
            "|2020-06-08 15:28:55|        101|9123458445|         638|     USD| Cattle Card|     M|1950-07-25| FALSE|2020-06-08| 71|       40|           0|    15571|           0|           0|       15571|\n",
            "|2020-06-24 02:40:19|        101|9123458445|         450|     EUR| Amazon Card|     M|1950-07-25| FALSE|2020-06-24| 71|       40|           0|    15571|           0|           0|       15571|\n",
            "|2021-03-29 06:25:56|        101|9123458445|         323|     INR| Cattle Card|     M|1950-07-25| FALSE|2021-03-29| 71|       40|           0|    15571|           0|           0|       15571|\n",
            "|2021-03-23 19:37:02|        101|9123458445|         734|     USD|Premier Card|     M|1950-07-25| FALSE|2021-03-23| 71|       40|           0|    15571|           0|           0|       15571|\n",
            "|2020-08-23 08:18:15|        101|9123458445|         485|     EUR| Amazon Card|     M|1950-07-25| FALSE|2020-08-23| 71|       40|           0|    15571|           0|           0|       15571|\n",
            "|2021-07-18 15:19:13|        101|9123458445|         981|     INR| Cattle Card|     M|1950-07-25|  TRUE|2021-07-18| 71|       40|           0|    15571|           0|           0|       15571|\n",
            "|2021-01-03 18:56:58|        111|9325489657|         916|     EUR| Cattle Card|     M|1989-09-27| FALSE|2021-01-03| 32|       30|           0|    22265|           0|       22265|           0|\n",
            "|2021-07-06 02:46:08|        111|9325489657|         303|     INR|Premier Card|     M|1989-09-27| FALSE|2021-07-06| 32|       30|           0|    22265|           0|       22265|           0|\n",
            "|2021-02-20 11:08:07|        111|9325489657|         545|     USD| Amazon Card|     M|1989-09-27| FALSE|2021-02-20| 32|       30|           0|    22265|           0|       22265|           0|\n",
            "|2021-02-17 12:49:43|        111|9325489657|         376|     EUR| Cattle Card|     M|1989-09-27| FALSE|2021-02-17| 32|       30|           0|    22265|           0|       22265|           0|\n",
            "|2021-04-13 15:04:45|        111|9325489657|         354|     INR| Amazon Card|     M|1989-09-27| FALSE|2021-04-13| 32|       30|           0|    22265|           0|       22265|           0|\n",
            "|2020-01-08 15:05:01|        111|9325489657|         705|     USD| Cattle Card|     M|1989-09-27|  TRUE|2020-01-08| 32|       30|           0|    22265|           0|       22265|           0|\n",
            "|2020-11-18 09:57:44|        109|9222356845|         553|     INR| Amazon Card|     M|1988-09-27| FALSE|2020-11-18| 33|       30|           0|    22265|           0|       22265|           0|\n",
            "|2021-07-22 19:15:31|        109|9222356845|         956|     USD| Cattle Card|     M|1988-09-27| FALSE|2021-07-22| 33|       30|           0|    22265|           0|       22265|           0|\n",
            "|2021-06-03 22:01:40|        109|9222356845|         283|     EUR| Amazon Card|     M|1988-09-27| FALSE|2021-06-03| 33|       30|           0|    22265|           0|       22265|           0|\n",
            "|2021-09-11 17:18:23|        109|9222356845|         802|     INR| Cattle Card|     M|1988-09-27| FALSE|2021-09-11| 33|       30|           0|    22265|           0|       22265|           0|\n",
            "|2021-08-04 18:05:00|        109|9222356845|         363|     USD|Premier Card|     M|1988-09-27| FALSE|2021-08-04| 33|       30|           0|    22265|           0|       22265|           0|\n",
            "|2021-08-12 20:15:22|        109|9222356845|         719|     EUR| Amazon Card|     M|1988-09-27| FALSE|2021-08-12| 33|       30|           0|    22265|           0|       22265|           0|\n",
            "|2020-06-14 21:01:28|        109|9222356845|         125|     INR| Cattle Card|     M|1988-09-27| FALSE|2020-06-14| 33|       30|           0|    22265|           0|       22265|           0|\n",
            "|2021-03-12 17:05:18|        109|9222356845|         127|     USD|Premier Card|     M|1988-09-27| FALSE|2021-03-12| 33|       30|           0|    22265|           0|       22265|           0|\n",
            "|2020-01-23 13:11:27|        109|9222356845|         820|     EUR| Amazon Card|     M|1988-09-27| FALSE|2020-01-23| 33|       30|           0|    22265|           0|       22265|           0|\n",
            "|2021-03-20 13:30:10|        109|9222356845|         794|     INR| Amazon Card|     M|1988-09-27| FALSE|2021-03-20| 33|       30|           0|    22265|           0|       22265|           0|\n",
            "|2020-05-28 16:21:21|        109|9222356845|         155|     USD| Cattle Card|     M|1988-09-27| FALSE|2020-05-28| 33|       30|           0|    22265|           0|       22265|           0|\n",
            "|2020-03-09 13:48:54|        109|9222356845|         310|     EUR|Premier Card|     M|1988-09-27| FALSE|2020-03-09| 33|       30|           0|    22265|           0|       22265|           0|\n",
            "|2021-02-23 08:19:13|        109|9222356845|         840|     INR|Premier Card|     M|1988-09-27| FALSE|2021-02-23| 33|       30|           0|    22265|           0|       22265|           0|\n",
            "|2021-02-17 15:04:12|        109|9222356845|         442|     USD| Amazon Card|     M|1988-09-27| FALSE|2021-02-17| 33|       30|           0|    22265|           0|       22265|           0|\n",
            "|2021-05-12 19:22:42|        109|9222356845|         944|     EUR| Cattle Card|     M|1988-09-27|  TRUE|2021-05-12| 33|       30|           0|    22265|           0|       22265|           0|\n",
            "|2020-04-23 15:36:02|        109|9222356845|         956|     INR| Cattle Card|     M|1988-09-27|  TRUE|2020-04-23| 33|       30|           0|    22265|           0|       22265|           0|\n",
            "|2021-08-28 23:07:32|        113|9452125875|         886|     EUR| Amazon Card|     M|1987-09-27| FALSE|2021-08-28| 34|       30|           0|    22265|           0|       22265|           0|\n",
            "|2020-12-08 21:23:18|        113|9452125875|         819|     INR| Amazon Card|     M|1987-09-27| FALSE|2020-12-08| 34|       30|           0|    22265|           0|       22265|           0|\n",
            "|2020-09-28 14:38:31|        112|9334512789|         418|     EUR|Premier Card|     F|1986-09-27| FALSE|2020-09-28| 35|       30|           0|    22265|           0|       22265|           0|\n",
            "|2021-06-21 21:36:44|        112|9334512789|         576|     INR| Amazon Card|     F|1986-09-27| FALSE|2021-06-21| 35|       30|           0|    22265|           0|       22265|           0|\n",
            "|2020-02-09 15:07:13|        112|9334512789|         875|     USD| Cattle Card|     F|1986-09-27| FALSE|2020-02-09| 35|       30|           0|    22265|           0|       22265|           0|\n",
            "|2020-10-07 05:24:50|        112|9334512789|         979|     EUR| Amazon Card|     F|1986-09-27| FALSE|2020-10-07| 35|       30|           0|    22265|           0|       22265|           0|\n",
            "|2020-05-26 15:52:12|        112|9334512789|         387|     INR| Cattle Card|     F|1986-09-27| FALSE|2020-05-26| 35|       30|           0|    22265|           0|       22265|           0|\n",
            "|2021-04-18 18:19:26|        112|9334512789|         242|     USD|Premier Card|     F|1986-09-27| FALSE|2021-04-18| 35|       30|           0|    22265|           0|       22265|           0|\n",
            "|2021-09-14 11:20:52|        112|9334512789|         644|     EUR| Amazon Card|     F|1986-09-27| FALSE|2021-09-14| 35|       30|           0|    22265|           0|       22265|           0|\n",
            "|2021-06-26 02:56:21|        112|9334512789|         686|     INR| Cattle Card|     F|1986-09-27| FALSE|2021-06-26| 35|       30|           0|    22265|           0|       22265|           0|\n",
            "|2021-02-07 09:10:36|        112|9334512789|         931|     USD|Premier Card|     F|1986-09-27|  TRUE|2021-02-07| 35|       30|           0|    22265|           0|       22265|           0|\n",
            "|2020-10-28 14:22:29|        110|9222245863|         779|     USD|Premier Card|     F|1984-09-27| FALSE|2020-10-28| 37|       30|           0|    22265|           0|       22265|           0|\n",
            "|2020-10-14 21:33:55|        110|9222245863|         700|     EUR| Amazon Card|     F|1984-09-27| FALSE|2020-10-14| 37|       30|           0|    22265|           0|       22265|           0|\n",
            "|2020-05-20 01:27:38|        110|9222245863|         505|     INR|Premier Card|     F|1984-09-27| FALSE|2020-05-20| 37|       30|           0|    22265|           0|       22265|           0|\n",
            "|2020-05-12 23:41:00|        110|9222245863|         450|     USD| Amazon Card|     F|1984-09-27| FALSE|2020-05-12| 37|       30|           0|    22265|           0|       22265|           0|\n",
            "+-------------------+-----------+----------+------------+--------+------------+------+----------+------+----------+---+---------+------------+---------+------------+------------+------------+\n",
            "\n"
          ]
        }
      ]
    },
    {
      "cell_type": "code",
      "metadata": {
        "colab": {
          "base_uri": "https://localhost:8080/"
        },
        "id": "nwJIa_QIcRo2",
        "outputId": "72b4ab1c-42d6-4bbd-e71a-7948336f358b"
      },
      "source": [
        "# This is just to confirm if the computations above are correct. Can be ignored.\n",
        "df2.groupBy(\"age_class\").agg(F.sum(\"amount_spent\")).show()"
      ],
      "execution_count": null,
      "outputs": [
        {
          "output_type": "stream",
          "name": "stdout",
          "text": [
            "+---------+-----------------+\n",
            "|age_class|sum(amount_spent)|\n",
            "+---------+-----------------+\n",
            "|       40|            15571|\n",
            "|       20|            19806|\n",
            "|       30|            22265|\n",
            "+---------+-----------------+\n",
            "\n"
          ]
        }
      ]
    },
    {
      "cell_type": "code",
      "metadata": {
        "colab": {
          "base_uri": "https://localhost:8080/"
        },
        "id": "D_dZPMAlIIXt",
        "outputId": "1bad0faf-612b-4370-d2a8-15964c5de158"
      },
      "source": [
        "df2 = df2.withColumnRenamed(\"d2_date\", \"date_time\")\n",
        "df2.columns"
      ],
      "execution_count": null,
      "outputs": [
        {
          "output_type": "execute_result",
          "data": {
            "text/plain": [
              "['date_time',\n",
              " 'client_code',\n",
              " 'mobile_num',\n",
              " 'amount_spent',\n",
              " 'currency',\n",
              " 'product',\n",
              " 'gender',\n",
              " 'dob',\n",
              " 'refund',\n",
              " 'txn_date',\n",
              " 'age',\n",
              " 'age_class',\n",
              " 'spendings_20',\n",
              " 'spendings',\n",
              " 'spending_20s',\n",
              " 'spending_30s',\n",
              " 'spending_40+']"
            ]
          },
          "metadata": {},
          "execution_count": 58
        }
      ]
    },
    {
      "cell_type": "code",
      "metadata": {
        "colab": {
          "base_uri": "https://localhost:8080/"
        },
        "id": "K53yrJXjIvyZ",
        "outputId": "5242957a-a7e0-48e3-e7ce-60c9e82c47ac"
      },
      "source": [
        "# This df is created in order to merge with the final output df.\n",
        "df2_final = df2.select('date_time','spending_20s',\n",
        " 'spending_30s',\n",
        " 'spending_40+')\n",
        "\n",
        "df2_final.show(2)"
      ],
      "execution_count": null,
      "outputs": [
        {
          "output_type": "stream",
          "name": "stdout",
          "text": [
            "+-------------------+------------+------------+------------+\n",
            "|          date_time|spending_20s|spending_30s|spending_40+|\n",
            "+-------------------+------------+------------+------------+\n",
            "|2020-09-07 09:51:26|       19806|           0|           0|\n",
            "|2020-07-02 23:23:30|       19806|           0|           0|\n",
            "+-------------------+------------+------------+------------+\n",
            "only showing top 2 rows\n",
            "\n"
          ]
        }
      ]
    },
    {
      "cell_type": "markdown",
      "metadata": {
        "id": "1wGvK5sC624Y"
      },
      "source": [
        "Problem Statement 3: \n",
        "Add 1 field to compute the running total of refund values for each client code "
      ]
    },
    {
      "cell_type": "code",
      "metadata": {
        "colab": {
          "base_uri": "https://localhost:8080/"
        },
        "id": "1iGSmnJuw7YI",
        "outputId": "87039182-a2de-44ef-b79a-0ec1a870ca5c"
      },
      "source": [
        "# This creates a new column with the refund amount if applicable. Wherever refund is not applicable, its zero\n",
        "df3 = df3.withColumn(\"refund_amount\", when(df3.refund == \"TRUE\", df3.amount_spent).otherwise(0))\n",
        "df3.show()"
      ],
      "execution_count": null,
      "outputs": [
        {
          "output_type": "stream",
          "name": "stdout",
          "text": [
            "+-------------------+-----------+----------+------------+--------+------------+------+----------+------+----------+-------------+-------------+\n",
            "|          date_time|client_code|mobile_num|amount_spent|currency|     product|gender|       dob|refund|  txn_date|running_total|refund_amount|\n",
            "+-------------------+-----------+----------+------------+--------+------------+------+----------+------+----------+-------------+-------------+\n",
            "|2020-05-17 18:16:06|        108|9223548512|         260|     INR| Amazon Card|     F|1998-09-27| FALSE|2020-05-17|          260|            0|\n",
            "|2020-10-23 05:49:38|        108|9223548512|         687|     USD| Cattle Card|     F|1998-09-27| FALSE|2020-10-23|          947|            0|\n",
            "|2021-06-11 19:31:06|        108|9223548512|         807|     EUR|Premier Card|     F|1998-09-27| FALSE|2021-06-11|         1754|            0|\n",
            "|2020-01-19 19:12:08|        101|9123458445|         726|     INR| Amazon Card|     M|1950-07-25| FALSE|2020-01-19|          726|            0|\n",
            "|2020-04-18 13:54:45|        101|9123458445|         183|     EUR|Premier Card|     M|1950-07-25| FALSE|2020-04-18|          909|            0|\n",
            "|2020-06-06 13:36:52|        101|9123458445|         685|     INR| Amazon Card|     M|1950-07-25| FALSE|2020-06-06|         1594|            0|\n",
            "|2020-06-08 15:28:55|        101|9123458445|         638|     USD| Cattle Card|     M|1950-07-25| FALSE|2020-06-08|         2232|            0|\n",
            "|2020-06-24 02:40:19|        101|9123458445|         450|     EUR| Amazon Card|     M|1950-07-25| FALSE|2020-06-24|         2682|            0|\n",
            "|2020-07-31 23:42:16|        101|9123458445|         788|     INR|Premier Card|     M|1950-07-25| FALSE|2020-07-31|         3470|            0|\n",
            "|2020-08-23 08:18:15|        101|9123458445|         485|     EUR| Amazon Card|     M|1950-07-25| FALSE|2020-08-23|         3955|            0|\n",
            "|2020-09-04 11:35:11|        101|9123458445|         861|     EUR| Cattle Card|     M|1950-07-25| FALSE|2020-09-04|         4816|            0|\n",
            "|2020-09-11 01:17:46|        101|9123458445|         956|     INR|Premier Card|     M|1950-07-25| FALSE|2020-09-11|         5772|            0|\n",
            "|2021-01-13 12:20:07|        101|9123458445|         473|     USD| Cattle Card|     M|1950-07-25| FALSE|2021-01-13|         6245|            0|\n",
            "|2021-01-28 18:51:40|        101|9123458445|         871|     USD| Amazon Card|     M|1950-07-25| FALSE|2021-01-28|         7116|            0|\n",
            "|2021-03-23 19:37:02|        101|9123458445|         734|     USD|Premier Card|     M|1950-07-25| FALSE|2021-03-23|         7850|            0|\n",
            "|2021-03-29 06:25:56|        101|9123458445|         323|     INR| Cattle Card|     M|1950-07-25| FALSE|2021-03-29|         8173|            0|\n",
            "|2021-04-22 11:28:14|        101|9123458445|         651|     EUR| Cattle Card|     M|1950-07-25| FALSE|2021-04-22|         8824|            0|\n",
            "|2021-07-18 15:19:13|        101|9123458445|         981|     INR| Cattle Card|     M|1950-07-25|  TRUE|2021-07-18|         9805|          981|\n",
            "|2021-09-17 08:06:07|        101|9123458445|         437|     USD| Amazon Card|     M|1950-07-25| FALSE|2021-09-17|        10242|            0|\n",
            "|2020-02-23 19:45:52|        103|9111452369|         741|     USD| Amazon Card|     M|1979-09-27| FALSE|2020-02-23|          741|            0|\n",
            "+-------------------+-----------+----------+------------+--------+------------+------+----------+------+----------+-------------+-------------+\n",
            "only showing top 20 rows\n",
            "\n"
          ]
        }
      ]
    },
    {
      "cell_type": "code",
      "metadata": {
        "colab": {
          "base_uri": "https://localhost:8080/"
        },
        "id": "ssmmY6zudRev",
        "outputId": "83f84181-71f3-474b-c37c-6484bfad9fea"
      },
      "source": [
        "import sys\n",
        "# Running total is computed here\n",
        "# Technically, this should be done over same currency, since this is not part of the problem statement, it is ignored for the computations.\n",
        "df3 = df3.withColumn('running_total', F.sum(\"refund_amount\").over(Window.partitionBy(\"client_code\").orderBy(\"date_time\").rowsBetween(-sys.maxsize, 0)))\n",
        "df3.sort(\"client_code\",\"date_time\").show(100)"
      ],
      "execution_count": null,
      "outputs": [
        {
          "output_type": "stream",
          "name": "stdout",
          "text": [
            "+-------------------+-----------+----------+------------+--------+------------+------+----------+------+----------+-------------+-------------+\n",
            "|          date_time|client_code|mobile_num|amount_spent|currency|     product|gender|       dob|refund|  txn_date|running_total|refund_amount|\n",
            "+-------------------+-----------+----------+------------+--------+------------+------+----------+------+----------+-------------+-------------+\n",
            "|2020-01-19 19:12:08|        101|9123458445|         726|     INR| Amazon Card|     M|1950-07-25| FALSE|2020-01-19|            0|            0|\n",
            "|2020-04-18 13:54:45|        101|9123458445|         183|     EUR|Premier Card|     M|1950-07-25| FALSE|2020-04-18|            0|            0|\n",
            "|2020-06-06 13:36:52|        101|9123458445|         685|     INR| Amazon Card|     M|1950-07-25| FALSE|2020-06-06|            0|            0|\n",
            "|2020-06-08 15:28:55|        101|9123458445|         638|     USD| Cattle Card|     M|1950-07-25| FALSE|2020-06-08|            0|            0|\n",
            "|2020-06-24 02:40:19|        101|9123458445|         450|     EUR| Amazon Card|     M|1950-07-25| FALSE|2020-06-24|            0|            0|\n",
            "|2020-07-31 23:42:16|        101|9123458445|         788|     INR|Premier Card|     M|1950-07-25| FALSE|2020-07-31|            0|            0|\n",
            "|2020-08-23 08:18:15|        101|9123458445|         485|     EUR| Amazon Card|     M|1950-07-25| FALSE|2020-08-23|            0|            0|\n",
            "|2020-09-04 11:35:11|        101|9123458445|         861|     EUR| Cattle Card|     M|1950-07-25| FALSE|2020-09-04|            0|            0|\n",
            "|2020-09-11 01:17:46|        101|9123458445|         956|     INR|Premier Card|     M|1950-07-25| FALSE|2020-09-11|            0|            0|\n",
            "|2021-01-13 12:20:07|        101|9123458445|         473|     USD| Cattle Card|     M|1950-07-25| FALSE|2021-01-13|            0|            0|\n",
            "|2021-01-28 18:51:40|        101|9123458445|         871|     USD| Amazon Card|     M|1950-07-25| FALSE|2021-01-28|            0|            0|\n",
            "|2021-03-23 19:37:02|        101|9123458445|         734|     USD|Premier Card|     M|1950-07-25| FALSE|2021-03-23|            0|            0|\n",
            "|2021-03-29 06:25:56|        101|9123458445|         323|     INR| Cattle Card|     M|1950-07-25| FALSE|2021-03-29|            0|            0|\n",
            "|2021-04-22 11:28:14|        101|9123458445|         651|     EUR| Cattle Card|     M|1950-07-25| FALSE|2021-04-22|            0|            0|\n",
            "|2021-07-18 15:19:13|        101|9123458445|         981|     INR| Cattle Card|     M|1950-07-25|  TRUE|2021-07-18|          981|          981|\n",
            "|2021-09-17 08:06:07|        101|9123458445|         437|     USD| Amazon Card|     M|1950-07-25| FALSE|2021-09-17|          981|            0|\n",
            "|2020-03-24 15:11:13|        102|9112345778|         818|     USD|Premier Card|     F|2000-07-25| FALSE|2020-03-24|            0|            0|\n",
            "|2020-05-12 00:40:47|        102|9112345778|         699|     EUR| Amazon Card|     F|2000-07-25| FALSE|2020-05-12|            0|            0|\n",
            "|2020-07-02 23:23:30|        102|9112345778|         528|     EUR| Amazon Card|     F|2000-07-25| FALSE|2020-07-02|            0|            0|\n",
            "|2020-07-28 11:26:27|        102|9112345778|         590|     USD| Amazon Card|     F|2000-07-25| FALSE|2020-07-28|            0|            0|\n",
            "|2020-07-29 02:56:20|        102|9112345778|         887|     INR| Cattle Card|     F|2000-07-25| FALSE|2020-07-29|            0|            0|\n",
            "|2020-09-07 09:51:26|        102|9112345778|         708|     USD|Premier Card|     F|2000-07-25| FALSE|2020-09-07|            0|            0|\n",
            "|2020-09-09 03:31:07|        102|9112345778|         729|     INR| Amazon Card|     F|2000-07-25| FALSE|2020-09-09|            0|            0|\n",
            "|2020-10-31 15:05:25|        102|9112345778|         548|     EUR|Premier Card|     F|2000-07-25| FALSE|2020-10-31|            0|            0|\n",
            "|2020-11-21 09:01:12|        102|9112345778|         955|     USD| Cattle Card|     F|2000-07-25| FALSE|2020-11-21|            0|            0|\n",
            "|2021-05-09 10:10:29|        102|9112345778|         134|     INR|Premier Card|     F|2000-07-25| FALSE|2021-05-09|            0|            0|\n",
            "|2021-05-09 16:08:20|        102|9112345778|         316|     INR|Premier Card|     F|2000-07-25|  TRUE|2021-05-09|          316|          316|\n",
            "|2021-07-25 05:01:27|        102|9112345778|         994|     EUR| Cattle Card|     F|2000-07-25| FALSE|2021-07-25|          316|            0|\n",
            "|2020-02-23 19:45:52|        103|9111452369|         741|     USD| Amazon Card|     M|1979-09-27| FALSE|2020-02-23|            0|            0|\n",
            "|2020-08-22 20:12:01|        103|9111452369|         377|     USD| Amazon Card|     M|1979-09-27| FALSE|2020-08-22|            0|            0|\n",
            "|2020-12-03 08:20:25|        103|9111452369|         473|     EUR| Cattle Card|     M|1979-09-27|  TRUE|2020-12-03|          473|          473|\n",
            "|2021-04-01 11:12:09|        103|9111452369|         442|     EUR| Cattle Card|     M|1979-09-27| FALSE|2021-04-01|          473|            0|\n",
            "|2021-04-02 14:15:07|        103|9111452369|         114|     INR|Premier Card|     M|1979-09-27| FALSE|2021-04-02|          473|            0|\n",
            "|2021-01-22 00:59:43|        104|9111152485|         412|     INR| Amazon Card|     F|1971-09-27| FALSE|2021-01-22|            0|            0|\n",
            "|2021-02-10 18:35:39|        104|9111152485|         200|     INR| Amazon Card|     F|1971-09-27|  TRUE|2021-02-10|          200|          200|\n",
            "|2021-08-03 01:27:21|        104|9111152485|         310|     EUR|Premier Card|     F|1971-09-27| FALSE|2021-08-03|          200|            0|\n",
            "|2021-09-18 23:36:05|        104|9111152485|         207|     USD| Cattle Card|     F|1971-09-27| FALSE|2021-09-18|          200|            0|\n",
            "|2020-04-03 13:12:22|        105|9111112548|         844|     INR| Cattle Card|     M|1966-09-27| FALSE|2020-04-03|            0|            0|\n",
            "|2020-07-17 03:07:03|        105|9111112548|         359|     EUR| Amazon Card|     M|1966-09-27| FALSE|2020-07-17|            0|            0|\n",
            "|2020-11-26 01:16:01|        105|9111112548|         850|     USD| Cattle Card|     M|1966-09-27| FALSE|2020-11-26|            0|            0|\n",
            "|2020-02-25 08:51:37|        106|9111111160|         476|     USD| Cattle Card|     F|1996-09-27| FALSE|2020-02-25|            0|            0|\n",
            "|2020-03-16 05:47:00|        106|9111111156|         107|     INR| Cattle Card|     F|1996-09-27| FALSE|2020-03-16|            0|            0|\n",
            "|2020-03-20 08:08:37|        106|9111111154|         232|     USD|Premier Card|     F|1996-09-27| FALSE|2020-03-20|            0|            0|\n",
            "|2020-04-06 20:42:30|        106|9111111158|         568|     EUR| Amazon Card|     F|1996-09-27| FALSE|2020-04-06|            0|            0|\n",
            "|2020-08-22 12:15:12|        106|9111111161|         426|     EUR|Premier Card|     F|1996-09-27|  TRUE|2020-08-22|          426|          426|\n",
            "|2020-12-13 22:01:46|        106|9111111157|         880|     USD|Premier Card|     F|1996-09-27| FALSE|2020-12-13|          426|            0|\n",
            "|2020-12-23 07:01:36|        106|9111111159|         783|     INR| Amazon Card|     F|1996-09-27| FALSE|2020-12-23|          426|            0|\n",
            "|2021-07-20 21:25:59|        106|9111111155|         560|     EUR| Amazon Card|     F|1996-09-27| FALSE|2021-07-20|          426|            0|\n",
            "|2020-04-05 06:58:17|        107|9214589635|         284|     EUR| Amazon Card|     M|1992-09-27| FALSE|2020-04-05|            0|            0|\n",
            "|2020-04-18 23:47:26|        107|9214589635|         328|     INR|Premier Card|     M|1992-09-27| FALSE|2020-04-18|            0|            0|\n",
            "|2020-05-26 14:35:59|        107|9214589635|         305|     EUR| Cattle Card|     M|1992-09-27| FALSE|2020-05-26|            0|            0|\n",
            "|2020-08-21 04:15:48|        107|9214589635|         929|     USD| Amazon Card|     M|1992-09-27| FALSE|2020-08-21|            0|            0|\n",
            "|2020-11-14 19:44:24|        107|9214589635|         626|     EUR| Cattle Card|     M|1992-09-27| FALSE|2020-11-14|            0|            0|\n",
            "|2021-01-28 13:48:26|        107|9214589635|         211|     INR|Premier Card|     M|1992-09-27| FALSE|2021-01-28|            0|            0|\n",
            "|2021-02-13 06:59:57|        107|9214589635|         701|     EUR| Cattle Card|     M|1992-09-27|  TRUE|2021-02-13|          701|          701|\n",
            "|2021-03-30 23:18:22|        107|9214589635|         440|     USD| Amazon Card|     M|1992-09-27| FALSE|2021-03-30|          701|            0|\n",
            "|2021-07-21 22:38:38|        107|9214589635|         600|     INR| Cattle Card|     M|1992-09-27| FALSE|2021-07-21|          701|            0|\n",
            "|2021-08-10 00:43:00|        107|9214589635|         619|     INR|Premier Card|     M|1992-09-27| FALSE|2021-08-10|          701|            0|\n",
            "|2021-08-18 10:16:45|        107|9214589635|         227|     USD| Amazon Card|     M|1992-09-27| FALSE|2021-08-18|          701|            0|\n",
            "|2021-09-09 14:22:40|        107|9214589635|         844|     USD|Premier Card|     M|1992-09-27| FALSE|2021-09-09|          701|            0|\n",
            "|2020-05-17 18:16:06|        108|9223548512|         260|     INR| Amazon Card|     F|1998-09-27| FALSE|2020-05-17|            0|            0|\n",
            "|2020-10-23 05:49:38|        108|9223548512|         687|     USD| Cattle Card|     F|1998-09-27| FALSE|2020-10-23|            0|            0|\n",
            "|2021-06-11 19:31:06|        108|9223548512|         807|     EUR|Premier Card|     F|1998-09-27| FALSE|2021-06-11|            0|            0|\n",
            "|2020-01-23 13:11:27|        109|9222356845|         820|     EUR| Amazon Card|     M|1988-09-27| FALSE|2020-01-23|            0|            0|\n",
            "|2020-03-09 13:48:54|        109|9222356845|         310|     EUR|Premier Card|     M|1988-09-27| FALSE|2020-03-09|            0|            0|\n",
            "|2020-04-23 15:36:02|        109|9222356845|         956|     INR| Cattle Card|     M|1988-09-27|  TRUE|2020-04-23|          956|          956|\n",
            "|2020-05-28 16:21:21|        109|9222356845|         155|     USD| Cattle Card|     M|1988-09-27| FALSE|2020-05-28|          956|            0|\n",
            "|2020-06-14 21:01:28|        109|9222356845|         125|     INR| Cattle Card|     M|1988-09-27| FALSE|2020-06-14|          956|            0|\n",
            "|2020-11-18 09:57:44|        109|9222356845|         553|     INR| Amazon Card|     M|1988-09-27| FALSE|2020-11-18|          956|            0|\n",
            "|2021-02-17 15:04:12|        109|9222356845|         442|     USD| Amazon Card|     M|1988-09-27| FALSE|2021-02-17|          956|            0|\n",
            "|2021-02-23 08:19:13|        109|9222356845|         840|     INR|Premier Card|     M|1988-09-27| FALSE|2021-02-23|          956|            0|\n",
            "|2021-03-12 17:05:18|        109|9222356845|         127|     USD|Premier Card|     M|1988-09-27| FALSE|2021-03-12|          956|            0|\n",
            "|2021-03-20 13:30:10|        109|9222356845|         794|     INR| Amazon Card|     M|1988-09-27| FALSE|2021-03-20|          956|            0|\n",
            "|2021-05-12 19:22:42|        109|9222356845|         944|     EUR| Cattle Card|     M|1988-09-27|  TRUE|2021-05-12|         1900|          944|\n",
            "|2021-06-03 22:01:40|        109|9222356845|         283|     EUR| Amazon Card|     M|1988-09-27| FALSE|2021-06-03|         1900|            0|\n",
            "|2021-07-22 19:15:31|        109|9222356845|         956|     USD| Cattle Card|     M|1988-09-27| FALSE|2021-07-22|         1900|            0|\n",
            "|2021-08-04 18:05:00|        109|9222356845|         363|     USD|Premier Card|     M|1988-09-27| FALSE|2021-08-04|         1900|            0|\n",
            "|2021-08-12 20:15:22|        109|9222356845|         719|     EUR| Amazon Card|     M|1988-09-27| FALSE|2021-08-12|         1900|            0|\n",
            "|2021-09-11 17:18:23|        109|9222356845|         802|     INR| Cattle Card|     M|1988-09-27| FALSE|2021-09-11|         1900|            0|\n",
            "|2020-05-12 23:41:00|        110|9222245863|         450|     USD| Amazon Card|     F|1984-09-27| FALSE|2020-05-12|            0|            0|\n",
            "|2020-05-20 01:27:38|        110|9222245863|         505|     INR|Premier Card|     F|1984-09-27| FALSE|2020-05-20|            0|            0|\n",
            "|2020-10-14 21:33:55|        110|9222245863|         700|     EUR| Amazon Card|     F|1984-09-27| FALSE|2020-10-14|            0|            0|\n",
            "|2020-10-28 14:22:29|        110|9222245863|         779|     USD|Premier Card|     F|1984-09-27| FALSE|2020-10-28|            0|            0|\n",
            "|2020-01-08 15:05:01|        111|9325489657|         705|     USD| Cattle Card|     M|1989-09-27|  TRUE|2020-01-08|          705|          705|\n",
            "|2021-01-03 18:56:58|        111|9325489657|         916|     EUR| Cattle Card|     M|1989-09-27| FALSE|2021-01-03|          705|            0|\n",
            "|2021-02-17 12:49:43|        111|9325489657|         376|     EUR| Cattle Card|     M|1989-09-27| FALSE|2021-02-17|          705|            0|\n",
            "|2021-02-20 11:08:07|        111|9325489657|         545|     USD| Amazon Card|     M|1989-09-27| FALSE|2021-02-20|          705|            0|\n",
            "|2021-04-13 15:04:45|        111|9325489657|         354|     INR| Amazon Card|     M|1989-09-27| FALSE|2021-04-13|          705|            0|\n",
            "|2021-07-06 02:46:08|        111|9325489657|         303|     INR|Premier Card|     M|1989-09-27| FALSE|2021-07-06|          705|            0|\n",
            "|2020-02-09 15:07:13|        112|9334512789|         875|     USD| Cattle Card|     F|1986-09-27| FALSE|2020-02-09|            0|            0|\n",
            "|2020-05-26 15:52:12|        112|9334512789|         387|     INR| Cattle Card|     F|1986-09-27| FALSE|2020-05-26|            0|            0|\n",
            "|2020-09-28 14:38:31|        112|9334512789|         418|     EUR|Premier Card|     F|1986-09-27| FALSE|2020-09-28|            0|            0|\n",
            "|2020-10-07 05:24:50|        112|9334512789|         979|     EUR| Amazon Card|     F|1986-09-27| FALSE|2020-10-07|            0|            0|\n",
            "|2021-02-07 09:10:36|        112|9334512789|         931|     USD|Premier Card|     F|1986-09-27|  TRUE|2021-02-07|          931|          931|\n",
            "|2021-04-18 18:19:26|        112|9334512789|         242|     USD|Premier Card|     F|1986-09-27| FALSE|2021-04-18|          931|            0|\n",
            "|2021-06-21 21:36:44|        112|9334512789|         576|     INR| Amazon Card|     F|1986-09-27| FALSE|2021-06-21|          931|            0|\n",
            "|2021-06-26 02:56:21|        112|9334512789|         686|     INR| Cattle Card|     F|1986-09-27| FALSE|2021-06-26|          931|            0|\n",
            "|2021-09-14 11:20:52|        112|9334512789|         644|     EUR| Amazon Card|     F|1986-09-27| FALSE|2021-09-14|          931|            0|\n",
            "|2020-12-08 21:23:18|        113|9452125875|         819|     INR| Amazon Card|     M|1987-09-27| FALSE|2020-12-08|            0|            0|\n",
            "|2021-08-28 23:07:32|        113|9452125875|         886|     EUR| Amazon Card|     M|1987-09-27| FALSE|2021-08-28|            0|            0|\n",
            "+-------------------+-----------+----------+------------+--------+------------+------+----------+------+----------+-------------+-------------+\n",
            "\n"
          ]
        }
      ]
    },
    {
      "cell_type": "code",
      "metadata": {
        "colab": {
          "base_uri": "https://localhost:8080/"
        },
        "id": "bMYKaZWmJFvH",
        "outputId": "1fbce721-07b9-493e-9735-8f5dfcbaa667"
      },
      "source": [
        "df3 = df3.withColumnRenamed(\"d3_date\", \"date_time\")\n",
        "df3.columns"
      ],
      "execution_count": null,
      "outputs": [
        {
          "output_type": "execute_result",
          "data": {
            "text/plain": [
              "['date_time',\n",
              " 'client_code',\n",
              " 'mobile_num',\n",
              " 'amount_spent',\n",
              " 'currency',\n",
              " 'product',\n",
              " 'gender',\n",
              " 'dob',\n",
              " 'refund',\n",
              " 'txn_date',\n",
              " 'running_total',\n",
              " 'refund_amount']"
            ]
          },
          "metadata": {},
          "execution_count": 60
        }
      ]
    },
    {
      "cell_type": "code",
      "metadata": {
        "colab": {
          "base_uri": "https://localhost:8080/"
        },
        "id": "lI7KyXc6JNnV",
        "outputId": "50886dfb-f4d9-4c55-cf78-2f995aea5411"
      },
      "source": [
        "# This df is created in order to merge with the final output df.\n",
        "df3_final = df3.select('date_time', 'running_total')\n",
        "df3_final.show(2)"
      ],
      "execution_count": null,
      "outputs": [
        {
          "output_type": "stream",
          "name": "stdout",
          "text": [
            "+-------------------+-------------+\n",
            "|          date_time|running_total|\n",
            "+-------------------+-------------+\n",
            "|2020-05-17 18:16:06|            0|\n",
            "|2020-10-23 05:49:38|            0|\n",
            "+-------------------+-------------+\n",
            "only showing top 2 rows\n",
            "\n"
          ]
        }
      ]
    },
    {
      "cell_type": "markdown",
      "metadata": {
        "id": "o0Pvx34Y7ea2"
      },
      "source": [
        "Final df\n"
      ]
    },
    {
      "cell_type": "code",
      "metadata": {
        "colab": {
          "base_uri": "https://localhost:8080/"
        },
        "id": "E7JQcR9G3Y2o",
        "outputId": "66454f3c-49f1-46a0-9acb-0867982b2ffb"
      },
      "source": [
        "# All the three dfs are joined based on the date_time column, which is common to all of them.\n",
        "# Assumption made here is that every row in the date_time column is unique.\n",
        "# If this is not the case, all the above operations will have to performed wrt to the combination of date_time, client_code, and product for uniqueness\n",
        "df_final = df1_final.join(df2_final, [\"date_time\"]).join(df3_final, [\"date_time\"]) \n",
        "df_final.show()"
      ],
      "execution_count": null,
      "outputs": [
        {
          "output_type": "stream",
          "name": "stdout",
          "text": [
            "+-------------------+-----------+----------+------------+--------+------------+------+----------+------+-----------+----------+------------+------------+------------+-------------+\n",
            "|          date_time|client_code|mobile_num|amount_spent|currency|     product|gender|       dob|refund|product_sum|gender_sum|spending_20s|spending_30s|spending_40+|running_total|\n",
            "+-------------------+-----------+----------+------------+--------+------------+------+----------+------+-----------+----------+------------+------------+------------+-------------+\n",
            "|2020-05-12 00:40:47|        102|9112345778|         699|     EUR| Amazon Card|     F|2000-07-25| FALSE|       1149|      1149|       19806|           0|           0|            0|\n",
            "|2020-05-12 23:41:00|        110|9222245863|         450|     USD| Amazon Card|     F|1984-09-27| FALSE|       1149|      1149|           0|       22265|           0|            0|\n",
            "|2021-02-07 09:10:36|        112|9334512789|         931|     USD|Premier Card|     F|1986-09-27|  TRUE|        931|       931|           0|       22265|           0|          931|\n",
            "|2020-02-09 15:07:13|        112|9334512789|         875|     USD| Cattle Card|     F|1986-09-27| FALSE|        875|       875|           0|       22265|           0|            0|\n",
            "|2020-07-28 11:26:27|        102|9112345778|         590|     USD| Amazon Card|     F|2000-07-25| FALSE|        590|       590|       19806|           0|           0|            0|\n",
            "|2020-10-14 21:33:55|        110|9222245863|         700|     EUR| Amazon Card|     F|1984-09-27| FALSE|        700|       700|           0|       22265|           0|            0|\n",
            "|2020-05-28 16:21:21|        109|9222356845|         155|     USD| Cattle Card|     M|1988-09-27| FALSE|        155|       155|           0|       22265|           0|          956|\n",
            "|2021-06-03 22:01:40|        109|9222356845|         283|     EUR| Amazon Card|     M|1988-09-27| FALSE|        283|       283|           0|       22265|           0|         1900|\n",
            "|2021-03-30 23:18:22|        107|9214589635|         440|     USD| Amazon Card|     M|1992-09-27| FALSE|        440|       440|       19806|           0|           0|          701|\n",
            "|2020-07-17 03:07:03|        105|9111112548|         359|     EUR| Amazon Card|     M|1966-09-27| FALSE|        359|       359|           0|           0|       15571|            0|\n",
            "|2021-01-03 18:56:58|        111|9325489657|         916|     EUR| Cattle Card|     M|1989-09-27| FALSE|        916|       916|           0|       22265|           0|          705|\n",
            "|2021-04-22 11:28:14|        101|9123458445|         651|     EUR| Cattle Card|     M|1950-07-25| FALSE|        651|       651|           0|           0|       15571|            0|\n",
            "|2020-10-07 05:24:50|        112|9334512789|         979|     EUR| Amazon Card|     F|1986-09-27| FALSE|        979|       979|           0|       22265|           0|            0|\n",
            "|2020-04-05 06:58:17|        107|9214589635|         284|     EUR| Amazon Card|     M|1992-09-27| FALSE|        284|       284|       19806|           0|           0|            0|\n",
            "|2021-08-12 20:15:22|        109|9222356845|         719|     EUR| Amazon Card|     M|1988-09-27| FALSE|        719|       719|           0|       22265|           0|         1900|\n",
            "|2020-03-16 05:47:00|        106|9111111156|         107|     INR| Cattle Card|     F|1996-09-27| FALSE|        107|       107|       19806|           0|           0|            0|\n",
            "|2021-04-18 18:19:26|        112|9334512789|         242|     USD|Premier Card|     F|1986-09-27| FALSE|        242|       242|           0|       22265|           0|          931|\n",
            "|2020-11-14 19:44:24|        107|9214589635|         626|     EUR| Cattle Card|     M|1992-09-27| FALSE|        626|       626|       19806|           0|           0|            0|\n",
            "|2021-08-18 10:16:45|        107|9214589635|         227|     USD| Amazon Card|     M|1992-09-27| FALSE|        227|       227|       19806|           0|           0|          701|\n",
            "|2021-02-17 15:04:12|        109|9222356845|         442|     USD| Amazon Card|     M|1988-09-27| FALSE|        442|       818|           0|       22265|           0|          956|\n",
            "+-------------------+-----------+----------+------------+--------+------------+------+----------+------+-----------+----------+------------+------------+------------+-------------+\n",
            "only showing top 20 rows\n",
            "\n"
          ]
        }
      ]
    },
    {
      "cell_type": "markdown",
      "metadata": {
        "id": "Xu5HBh238POG"
      },
      "source": [
        "Writing the df to destination"
      ]
    },
    {
      "cell_type": "code",
      "metadata": {
        "id": "u_7CiQ8Y_STW"
      },
      "source": [
        "df_final.write.mode(\"overwrite\").options(header='True').csv('/content/drive/MyDrive/AlgoEngines/output')"
      ],
      "execution_count": null,
      "outputs": []
    }
  ]
}